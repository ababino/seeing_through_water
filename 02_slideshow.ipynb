{
 "cells": [
  {
   "cell_type": "code",
   "execution_count": null,
   "metadata": {},
   "outputs": [],
   "source": [
    "# default_exp slideshow"
   ]
  },
  {
   "cell_type": "markdown",
   "metadata": {},
   "source": [
    "# slideshow\n",
    "\n",
    "> Command line script to show images."
   ]
  },
  {
   "cell_type": "code",
   "execution_count": null,
   "metadata": {},
   "outputs": [],
   "source": [
    "#hide\n",
    "from nbdev.showdoc import *"
   ]
  },
  {
   "cell_type": "code",
   "execution_count": null,
   "metadata": {},
   "outputs": [],
   "source": [
    "#export\n",
    "import logging\n",
    "from glob import glob\n",
    "import os.path\n",
    "import time\n",
    "import itertools\n",
    "\n",
    "import cv2\n",
    "import wx\n",
    "import numpy as np\n",
    "from tqdm import tqdm\n",
    "from fastcore.script import *"
   ]
  },
  {
   "cell_type": "code",
   "execution_count": null,
   "metadata": {},
   "outputs": [],
   "source": [
    "#export\n",
    "def array_to_wx(image, size):\n",
    "    height, width = image.shape[:-1]\n",
    "    pad_h = max(0, size[1]-height)//2\n",
    "    pad_w = max(0, size[0]-width)//2\n",
    "    image = image[:,:,::-1]\n",
    "    buffer = image.tobytes()\n",
    "    bitmap = wx.Bitmap.FromBuffer(width, height, buffer)\n",
    "    return bitmap, pad_h, pad_w"
   ]
  },
  {
   "cell_type": "code",
   "execution_count": null,
   "metadata": {},
   "outputs": [],
   "source": [
    "#export\n",
    "class Panel(wx.Panel):\n",
    "    def __init__(self, parent, imgs, size, sleep):\n",
    "        super(Panel, self).__init__(parent, -1)\n",
    "        self.imgs = imgs\n",
    "        self.size = size\n",
    "        self.sleep = sleep\n",
    "        self.black = np.zeros([size[0], size[0], 3], dtype=np.uint8)\n",
    "        self.white = 255 * np.ones([640, 640, 3]).astype(np.uint8)\n",
    "        self.parent = parent\n",
    "        self.SetSize(size)\n",
    "        self.SetBackgroundStyle(wx.BG_STYLE_CUSTOM)\n",
    "        self.SetBackgroundColour((0,0,0))\n",
    "        self.Bind(wx.EVT_PAINT, self.on_paint)\n",
    "        self.frame_n = None\n",
    "        self.play = False\n",
    "        self.exit = False\n",
    "        self.Bind(wx.EVT_KEY_DOWN, self.onKeyPress)\n",
    "        self.update()\n",
    "        self.parent.SetPosition((0,0))\n",
    "\n",
    "    def update(self):\n",
    "        if self.play:\n",
    "            self.Refresh()\n",
    "            self.Update()\n",
    "        if not self.exit:\n",
    "            wx.CallLater(1, self.update)\n",
    "\n",
    "    def create_bitmap(self):\n",
    "        try:\n",
    "            self.frame_n, frame_name = self.imgs.__next__()\n",
    "            if frame_name!='black':\n",
    "                logging.debug('iter: %s, image: %s', self.frame_n//2, frame_name)\n",
    "            if frame_name == 'black':\n",
    "                frame = self.black\n",
    "            elif frame_name == 'white':\n",
    "                frame = self.white\n",
    "            else:\n",
    "                frame = cv2.imread(frame_name)\n",
    "            bitmap, pad_h, pad_w = array_to_wx(frame, self.size)\n",
    "        except StopIteration:\n",
    "            frame = self.black\n",
    "            frame_name = 'black'\n",
    "            bitmap, pad_h, pad_w = array_to_wx(frame, self.size)\n",
    "        return bitmap, pad_h, pad_w, frame_name\n",
    "\n",
    "    def on_paint(self, event):\n",
    "        bitmap, pad_h, pad_w, frame_name = self.create_bitmap()\n",
    "        dc = wx.AutoBufferedPaintDC(self)\n",
    "        dc.DrawBitmap(bitmap, pad_w, pad_h,  useMask=False)\n",
    "        if frame_name=='black':\n",
    "            time.sleep(self.sleep)\n",
    "        else:\n",
    "            time.sleep(0.1)\n",
    "\n",
    "    def onKeyPress(self, event):\n",
    "        keycode = event.GetKeyCode()\n",
    "        if keycode == wx.WXK_SPACE:\n",
    "            self.play = not(self.play)\n",
    "        if keycode == wx.WXK_ESCAPE:\n",
    "            self.exit = not(self.exit)\n",
    "            logging.debug('Exit app')\n",
    "            self.Close()\n",
    "            self.parent.Close()"
   ]
  },
  {
   "cell_type": "code",
   "execution_count": null,
   "metadata": {},
   "outputs": [],
   "source": [
    "#export\n",
    "class Frame(wx.Frame):\n",
    "    def __init__(self, imgs, size, sleep):\n",
    "        d0w, d0h = wx.DisplaySize()\n",
    "        style = wx.STAY_ON_TOP\n",
    "        super(Frame, self).__init__(None, -1, 'coco imgs', style=style,\n",
    "                                    size=(10,10))\n",
    "        panel = Panel(self, imgs, size, sleep)\n",
    "        self.Fit()\n",
    "        self.SetPosition((d0w,0))"
   ]
  },
  {
   "cell_type": "code",
   "execution_count": null,
   "metadata": {},
   "outputs": [],
   "source": [
    "#export\n",
    "@call_parse\n",
    "def slideshow(folder:Param(\"Path to the video\", str),\n",
    "              size:Param(\"Size of the window\", int, nargs=2),\n",
    "              sleep:Param(\"Presentation time for each frame. 0.1 yields 3 frames per image, 0.3 yoelds 9. (if you are filming at 30fps)\", float)=0.1):\n",
    "    \"\"\"Slide Show.\n",
    "\n",
    "    Example:\n",
    "        slideshow path_to_folder_with_imgages 1000 1000\n",
    "\n",
    "    Author: Andres Babino <ababino@gmail.com>\n",
    "    \"\"\"\n",
    "    logging.basicConfig(format='%(levelname)s: %(asctime)s %(message)s', filename=\"stw.log\", level=logging.DEBUG)\n",
    "    path = os.path.join(folder, '*.jpg')\n",
    "    path = ['white']+glob(path)+['white']\n",
    "    black_imgs = itertools.repeat('black')\n",
    "    imgs = zip(black_imgs, path)\n",
    "    imgs = itertools.chain.from_iterable(imgs)\n",
    "    imgs = enumerate(tqdm(imgs, total=len(path)*2, unit='images'))\n",
    "    \n",
    "    logging.debug('Start app')\n",
    "    app = wx.App()\n",
    "    frame = Frame(imgs, size, sleep)\n",
    "    frame.Show()\n",
    "    app.MainLoop()"
   ]
  },
  {
   "cell_type": "code",
   "execution_count": null,
   "metadata": {},
   "outputs": [
    {
     "name": "stdout",
     "output_type": "stream",
     "text": [
      "Converted 00_core.ipynb.\n",
      "Converted 01_dataset.ipynb.\n",
      "Converted 02_slideshow.ipynb.\n",
      "Converted index.ipynb.\n"
     ]
    }
   ],
   "source": [
    "from nbdev.export import notebook2script; notebook2script()"
   ]
  }
 ],
 "metadata": {
  "kernelspec": {
   "display_name": "Python 3",
   "language": "python",
   "name": "python3"
  }
 },
 "nbformat": 4,
 "nbformat_minor": 4
}
