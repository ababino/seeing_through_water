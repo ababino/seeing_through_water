{
 "cells": [
  {
   "cell_type": "code",
   "execution_count": null,
   "metadata": {},
   "outputs": [],
   "source": [
    "# default_exp core"
   ]
  },
  {
   "cell_type": "markdown",
   "metadata": {},
   "source": [
    "# core\n",
    "\n",
    "> Basic functions."
   ]
  },
  {
   "cell_type": "code",
   "execution_count": null,
   "metadata": {},
   "outputs": [],
   "source": [
    "#hide\n",
    "from nbdev.showdoc import *"
   ]
  },
  {
   "cell_type": "code",
   "execution_count": null,
   "metadata": {},
   "outputs": [],
   "source": [
    "#export\n",
    "import os\n",
    "from skvideo.io import ffprobe\n",
    "import cv2\n",
    "from fastcore.all import *\n",
    "from tqdm.notebook import tqdm, trange\n",
    "import ipywidgets as widgets\n",
    "from ipywidgets import VBox, HBox, Label, Layout, Button\n",
    "from fastai.data.all import *\n",
    "from PIL import Image\n",
    "from scipy.fft import fft\n",
    "from fastpapers.core import * "
   ]
  },
  {
   "cell_type": "code",
   "execution_count": null,
   "metadata": {},
   "outputs": [],
   "source": [
    "#export\n",
    "def video_info(path):\n",
    "    '''Returns number of frames and frame rate.'''\n",
    "    video_info = ffprobe(str(path))\n",
    "    n_frames = int(video_info['video']['@nb_frames'])\n",
    "    a, b = L(video_info['video']['@r_frame_rate'].split('/')).map(int)\n",
    "    return n_frames, a/b"
   ]
  },
  {
   "cell_type": "code",
   "execution_count": null,
   "metadata": {},
   "outputs": [],
   "source": [
    "#export\n",
    "def force_read(cap):\n",
    "    '''Read next frame in video.'''\n",
    "    frame = cap.read()[1]\n",
    "    return force_read(cap) if frame is None else frame"
   ]
  },
  {
   "cell_type": "code",
   "execution_count": null,
   "metadata": {},
   "outputs": [],
   "source": [
    "#export\n",
    "def eager_video_iterator(path):\n",
    "    '''Iterates over all the frames in a video.'''\n",
    "    n_frames, _ = video_info(path)\n",
    "    cap = cv2.VideoCapture(str(path))    \n",
    "    for i in trange(n_frames): yield force_read(cap)\n",
    "    cap.release()"
   ]
  },
  {
   "cell_type": "code",
   "execution_count": null,
   "metadata": {},
   "outputs": [],
   "source": [
    "#export\n",
    "def brightest_frame(path, max_iter=-1):\n",
    "    '''Returns the brightest frame in a video.'''\n",
    "    mean_frame, max_frame = -1, None\n",
    "    for i, frame in enumerate(eager_video_iterator(path)):\n",
    "        if frame.mean()>mean_frame:\n",
    "            max_frame= frame\n",
    "            mean_frame = frame.mean()\n",
    "        if i>max_iter and max_iter>0: break\n",
    "    return max_frame"
   ]
  },
  {
   "cell_type": "code",
   "execution_count": null,
   "metadata": {},
   "outputs": [],
   "source": [
    "#export\n",
    "class Calibrator:\n",
    "    \"\"\"Class to rotate and crop frames.\"\"\"\n",
    "    def __init__(self, im, rot=0, min_ct=300, max_ct=600, min_cl=500, max_cl=800, min_sz=400, max_sz=500):\n",
    "        self.im = im\n",
    "        self.rot = widgets.FloatSlider(value=rot, min=-5, max=5)\n",
    "        self.ct = widgets.IntSlider(value=(min_ct+max_ct)/2, min=min_ct, max=max_ct)\n",
    "        self.cl = widgets.IntSlider(value=(min_cl+max_cl)/2, min=min_cl, max=max_cl)\n",
    "        self.sz = widgets.IntSlider(value=(min_sz+max_sz)/2, min=min_sz, max=max_sz)\n",
    "        \n",
    "        self.ct.observe(self.refresh_cam, names='value')\n",
    "        self.rot.observe(self.refresh_cam, names='value')\n",
    "        self.cl.observe(self.refresh_cam, names='value')\n",
    "        self.sz.observe(self.refresh_cam, names='value')\n",
    "        self.cam_out = widgets.Output(wait=True, layout=Layout(width='640px', height='640px'))\n",
    "        self.refresh_cam(None)\n",
    "            \n",
    "    def refresh_cam(self, event):\n",
    "        img = Image.fromarray(self.im[:,:,::-1])\n",
    "        img = img.rotate(self.rot.value, resample=Image.BICUBIC)\n",
    "        img = img.crop((self.cl.value, self.ct.value, self.cl.value+self.sz.value, self.ct.value+self.sz.value))\n",
    "        img = img.resize((640, 640))\n",
    "        self.cam_out.clear_output()\n",
    "        with self.cam_out: display(img)\n",
    "    \n",
    "    def crop_array(self, frame):\n",
    "        return frame[self.ct.value:self.ct.value+self.sz.value,self.cl.value:self.cl.value+self.sz.value,:]\n",
    "    \n",
    "    def encode(self, frame, reference=None, ref_sz=640):\n",
    "        img = Image.fromarray(frame[:,:,::-1])\n",
    "        img = img.rotate(self.rot.value, resample=Image.BICUBIC)\n",
    "        img = img.crop((self.cl.value, self.ct.value, self.cl.value+self.sz.value, self.ct.value+self.sz.value))\n",
    "        if not reference is None:\n",
    "            refsh = reference.shape\n",
    "            h, w = int(img.shape[0]*refsh[0]/ref_sz), int(img.shape[1]*refsh[1]/ref_sz)\n",
    "            top = (img.shape[0]-h)/2\n",
    "            bottom = img.shape[0]-top\n",
    "            left = (img.shape[1]-w)/2\n",
    "            right = img.shape[1] - left\n",
    "            img = img.crop((left, top, right, bottom))\n",
    "        return img\n",
    "\n",
    "    def display(self): \n",
    "        return VBox([HBox([self.cam_out]),\n",
    "                     HBox([Label('rotate  '), self.rot]),\n",
    "                     HBox([Label('crop top'), self.ct]),\n",
    "                     HBox([Label('crop left'), self.cl]),\n",
    "                     HBox([Label('size'), self.sz])])"
   ]
  },
  {
   "cell_type": "code",
   "execution_count": null,
   "metadata": {},
   "outputs": [],
   "source": [
    "#export\n",
    "class BrowserCalibrator(Calibrator):\n",
    "    @delegates(Calibrator.__init__)\n",
    "    def __init__(self, imgs, ref_imgs, reps=1, **kwargs):\n",
    "        super().__init__(imgs[0], **kwargs)\n",
    "        self.imgs = imgs\n",
    "        self.ref_imgs = ref_imgs\n",
    "        self.reps = reps\n",
    "        self.idx = 0\n",
    "        self.next = widgets.Button(description='next')\n",
    "        self.prev = widgets.Button(description='prev')\n",
    "        self.next.on_click(self.next_idx)\n",
    "        self.prev.on_click(self.prev_idx)\n",
    "        self.ref_img_out = widgets.Output(wait=True, layout=Layout(width='640px', height='640px'))\n",
    "        self.regresh_ref_img()\n",
    "    \n",
    "    def regresh_ref_img(self):\n",
    "        img = Image.open(self.ref_imgs[int(self.idx/self.reps)]).crop_pad(640)\n",
    "        self.ref_img_out.clear_output()\n",
    "        with self.ref_img_out: display(img)\n",
    "        \n",
    "    def next_idx(self, event): \n",
    "        self.idx += 1\n",
    "        self.im = self.imgs[self.idx]\n",
    "        self.refresh_cam(event)\n",
    "        self.regresh_ref_img()\n",
    "\n",
    "    def prev_idx(self, event): \n",
    "        self.idx -= 1\n",
    "        self.im = self.imgs[self.idx]\n",
    "        self.refresh_cam(event)\n",
    "        self.regresh_ref_img()\n",
    "\n",
    "    def display(self): \n",
    "        return VBox([HBox([self.cam_out, self.ref_img_out]),\n",
    "                     HBox([Label('rotate  '), self.rot]),\n",
    "                     HBox([Label('crop top'), self.ct]),\n",
    "                     HBox([Label('crop left'), self.cl]),\n",
    "                     HBox([Label('size'), self.sz]),\n",
    "                     HBox([self.prev, self.next])])"
   ]
  },
  {
   "cell_type": "code",
   "execution_count": null,
   "metadata": {},
   "outputs": [],
   "source": [
    "#export\n",
    "VIDEOS = Path(os.getenv('STWPATH'))/'videos'\n",
    "# COCO = Path(os.getenv('STWPATH')) / 'coco'"
   ]
  },
  {
   "cell_type": "code",
   "execution_count": null,
   "metadata": {},
   "outputs": [],
   "source": [
    "#export\n",
    "class DataSource:\n",
    "    def __init__(self, src, extensions='.MP4', folders=['val2017', 'train2017', 'test2017']):\n",
    "        self.src = VIDEOS\n",
    "        self.vfiles = get_files(self.src, extensions=extensions, folders=folders)\n",
    "    def get_subset(self, name):\n",
    "        subsets = L('train', 'val', 'test')\n",
    "        assert any(subsets.map(name.startswith)), 'subset name must be one of \"train\", \"val\", \"test\"'\n",
    "        self.subset = name\n",
    "        coco_source = download_coco()\n",
    "        fnames = get_image_files(coco_source[self.subset]).sorted()\n",
    "        return self.vfiles.filter(lambda x: x.parent.name.startswith(name)), fnames\n",
    "    def one_video(self):\n",
    "        subset = getattr(self, 'subset', 'test2017')\n",
    "        return first(self.vfiles.filter(lambda x: x.parent.name.startswith(subset)))\n",
    "    "
   ]
  },
  {
   "cell_type": "code",
   "execution_count": null,
   "metadata": {},
   "outputs": [],
   "source": [
    "#export\n",
    "videos_source = DataSource(VIDEOS)"
   ]
  },
  {
   "cell_type": "code",
   "execution_count": null,
   "metadata": {},
   "outputs": [],
   "source": [
    "#export\n",
    "def xy_fft(x, y):\n",
    "    T = np.diff(x)[0]\n",
    "    N = len(x)\n",
    "    xf = np.linspace(0.0, 1.0/(2.0*T), N//2)\n",
    "    yf = fft(y)\n",
    "    yf = 2.0/N * np.abs(yf[0:N//2])\n",
    "    return xf, yf"
   ]
  },
  {
   "cell_type": "code",
   "execution_count": null,
   "metadata": {},
   "outputs": [
    {
     "name": "stdout",
     "output_type": "stream",
     "text": [
      "Converted 00_core.ipynb.\n",
      "Converted 01_dataset.ipynb.\n",
      "Converted index.ipynb.\n"
     ]
    }
   ],
   "source": [
    "from nbdev.export import notebook2script; notebook2script()"
   ]
  }
 ],
 "metadata": {
  "kernelspec": {
   "display_name": "Python 3",
   "language": "python",
   "name": "python3"
  }
 },
 "nbformat": 4,
 "nbformat_minor": 2
}
